{
 "cells": [
  {
   "cell_type": "markdown",
   "id": "46f59603",
   "metadata": {},
   "source": [
    "# Proyecto Final - Modelos de Lenguaje\n",
    "Este cuaderno reemplaza los scripts en Python planos y concentra en un solo lugar el flujo de trabajo del proyecto final."
   ]
  },
  {
   "cell_type": "markdown",
   "id": "ec05b7c7",
   "metadata": {},
   "source": [
    "## Cargar dependencias\n",
    "Importamos las bibliotecas necesarias para manipular datos, entrenar y evaluar modelos de lenguaje."
   ]
  },
  {
   "cell_type": "code",
   "execution_count": null,
   "id": "9cec0679",
   "metadata": {},
   "outputs": [],
   "source": [
    "from pathlib import Path\n",
    "from typing import Dict, Optional\n",
    "\n",
    "from distutils.version import LooseVersion\n",
    "\n",
    "import transformers\n",
    "from datasets import Dataset, load_dataset\n",
    "from transformers import AutoTokenizer, AutoModelForSequenceClassification, Trainer, TrainingArguments\n",
    "\n",
    "model = AutoModelForSequenceClassification.from_pretrained(model_name, num_labels=2)\n",
    "\n",
    "training_args_kwargs = dict(\n",
    "    output_dir=\"models/spanish-bert-finetuned\",\n",
    "    learning_rate=2e-5,\n",
    "    per_device_train_batch_size=16,\n",
    "    per_device_eval_batch_size=16,\n",
    "    num_train_epochs=3,\n",
    "    weight_decay=0.01,\n",
    ")\n",
    "\n",
    "if LooseVersion(transformers.__version__) >= LooseVersion(\"3.1.0\"):\n",
    "    training_args_kwargs[\"evaluation_strategy\"] = \"epoch\"\n",
    "else:\n",
    "    training_args_kwargs[\"evaluate_during_training\"] = True\n",
    "\n",
    "training_args = TrainingArguments(**training_args_kwargs)\n",
    "\n",
    "trainer = Trainer(\n",
    "    model=model,\n",
    "    args=training_args,\n",
    "    train_dataset=tokenized_dataset,\n",
    "    eval_dataset=tokenized_dataset,\n",
    ")\n",
    "\n",
    "trainer.train()\n"
   ]
  },
  {
   "cell_type": "markdown",
   "id": "2f57e689",
   "metadata": {},
   "source": [
    "## Preparar datos\n",
    "Cargamos el corpus directamente desde `datasets` y preparamos etiquetas adecuadas para una tarea de clasificación binaria.\n"
   ]
  },
  {
   "cell_type": "code",
   "execution_count": null,
   "id": "ab87f563",
   "metadata": {},
   "outputs": [],
   "source": [
    "def build_classification_dataset(split: str = \"train\", sample_size: Optional[int] = 2000) -> Dataset:\n",
    "    \"\"\"Carga un subconjunto del dataset CNN/DailyMail y crea etiquetas binarizadas.\"\"\"\n",
    "    dataset = load_dataset(\"abisee/cnn_dailymail\", \"1.0.0\", split=split)\n",
    "    if sample_size is not None:\n",
    "        dataset = dataset.shuffle(seed=42).select(range(sample_size))\n",
    "\n",
    "    def convert_example(example: Dict[str, str]) -> Dict[str, object]:\n",
    "        summary_length = len(example[\"highlights\"].split())\n",
    "        label = 1 if summary_length > 60 else 0\n",
    "        return {\"text\": example[\"article\"], \"label\": label}\n",
    "\n",
    "    return dataset.map(convert_example, remove_columns=dataset.column_names)\n",
    "\n",
    "dataset = build_classification_dataset()\n",
    "dataset\n"
   ]
  },
  {
   "cell_type": "markdown",
   "id": "bc0cb8e0",
   "metadata": {},
   "source": [
    "## Tokenización\n",
    "Tokenizamos los ejemplos con el tokenizer adecuado al modelo base seleccionado."
   ]
  },
  {
   "cell_type": "code",
   "execution_count": null,
   "id": "7f3d5373",
   "metadata": {},
   "outputs": [],
   "source": [
    "model_name = \"dccuchile/bert-base-spanish-wwm-uncased\"\n",
    "tokenizer = AutoTokenizer.from_pretrained(model_name)\n",
    "\n",
    "def tokenize_function(batch: Dict[str, str]):\n",
    "    return tokenizer(batch[\"text\"], padding='max_length', truncation=True)\n",
    "\n",
    "tokenized_dataset = dataset.map(tokenize_function, batched=True)\n",
    "tokenized_dataset\n"
   ]
  },
  {
   "cell_type": "markdown",
   "id": "e6efbbf7",
   "metadata": {},
   "source": [
    "## Entrenamiento\n",
    "Se definen los argumentos y se lanza el proceso de fine-tuning del modelo de lenguaje."
   ]
  },
  {
   "cell_type": "code",
   "execution_count": null,
   "id": "5e26503d",
   "metadata": {},
   "outputs": [],
   "source": [
    "from distutils.version import LooseVersion\n",
    "\n",
    "import transformers\n",
    "\n",
    "model = AutoModelForSequenceClassification.from_pretrained(model_name, num_labels=2)\n",
    "\n",
    "training_args_kwargs = dict(\n",
    "    output_dir=\"models/spanish-bert-finetuned\",\n",
    "    learning_rate=2e-5,\n",
    "    per_device_train_batch_size=16,\n",
    "    per_device_eval_batch_size=16,\n",
    "    num_train_epochs=3,\n",
    "    weight_decay=0.01,\n",
    ")\n",
    "\n",
    "if LooseVersion(transformers.__version__) >= LooseVersion(\"3.1.0\"):\n",
    "    training_args_kwargs[\"evaluation_strategy\"] = \"epoch\"\n",
    "else:\n",
    "    training_args_kwargs[\"evaluate_during_training\"] = True\n",
    "\n",
    "training_args = TrainingArguments(**training_args_kwargs)\n",
    "\n",
    "trainer = Trainer(\n",
    "    model=model,\n",
    "    args=training_args,\n",
    "    train_dataset=tokenized_dataset,\n",
    "    eval_dataset=tokenized_dataset,\n",
    ")\n",
    "\n",
    "trainer.train()\n"
   ]
  },
  {
   "cell_type": "markdown",
   "id": "db1273b1",
   "metadata": {},
   "source": [
    "## Evaluación y guardado\n",
    "Calculamos métricas y guardamos los artefactos del modelo para su posterior reutilización."
   ]
  },
  {
   "cell_type": "code",
   "execution_count": null,
   "id": "82d9e309",
   "metadata": {},
   "outputs": [],
   "source": [
    "metrics = trainer.evaluate()\n",
    "metrics\n",
    "\n",
    "Path(\"models/spanish-bert-finetuned\").mkdir(parents=True, exist_ok=True)\n",
    "trainer.save_model()\n",
    "tokenizer.save_pretrained(\"models/spanish-bert-finetuned\")\n"
   ]
  }
 ],
 "metadata": {
  "kernelspec": {
   "display_name": "Python 3",
   "language": "python",
   "name": "python3"
  },
  "language_info": {
   "name": "python",
   "version": "3.10"
  }
 },
 "nbformat": 4,
 "nbformat_minor": 5
}
