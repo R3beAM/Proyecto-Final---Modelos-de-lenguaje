{
 "cells": [
  {
   "cell_type": "markdown",
   "metadata": {},
   "source": [
    "# Proyecto Final - Modelos de Lenguaje\n",
    "Este cuaderno reemplaza los scripts en Python planos y concentra en un solo lugar el flujo de trabajo del proyecto final."
   ]
  },
  {
   "cell_type": "markdown",
   "metadata": {},
   "source": [
    "## Cargar dependencias\n",
    "Importamos las bibliotecas necesarias para manipular datos, entrenar y evaluar modelos de lenguaje."
   ]
  },
  {
   "cell_type": "code",
   "execution_count": null,
   "metadata": {},
   "outputs": [],
   "source": [
    "import json\n",
    "from pathlib import Path\n",
    "from typing import List, Dict\n",
    "\n",
    "import pandas as pd\n",
    "from datasets import Dataset\n",
    "from transformers import AutoTokenizer, AutoModelForSequenceClassification, Trainer, TrainingArguments\n"
   ]
  },
  {
   "cell_type": "markdown",
   "metadata": {},
   "source": [
    "## Preparar datos\n",
    "Las funciones siguientes cargan datos crudos desde archivos JSONL y los preparan para ser consumidos por un modelo de Transformers."
   ]
  },
  {
   "cell_type": "code",
   "execution_count": null,
   "metadata": {},
   "outputs": [],
   "source": [
    "def load_jsonl(path: Path) -> List[Dict]:\n",
    "    \"\"\"Carga un archivo JSONL y devuelve una lista de diccionarios.\"\"\"\n",
    "    with path.open(\"r\", encoding=\"utf-8\") as fh:\n",
    "        return [json.loads(line) for line in fh]\n",
    "\n",
    "def dataset_from_records(records: List[Dict]) -> Dataset:\n",
    "    \"\"\"Convierte la lista de ejemplos en un `datasets.Dataset`.\"\"\"\n",
    "    frame = pd.DataFrame.from_records(records)\n",
    "    return Dataset.from_pandas(frame)\n",
    "\n",
    "raw_records = load_jsonl(Path(\"data/train.jsonl\"))\n",
    "dataset = dataset_from_records(raw_records)\n",
    "dataset\n"
   ]
  },
  {
   "cell_type": "markdown",
   "metadata": {},
   "source": [
    "## Tokenización\n",
    "Tokenizamos los ejemplos con el tokenizer adecuado al modelo base seleccionado."
   ]
  },
  {
   "cell_type": "code",
   "execution_count": null,
   "metadata": {},
   "outputs": [],
   "source": [
    "model_name = \"dccuchile/bert-base-spanish-wwm-uncased\"\n",
    "tokenizer = AutoTokenizer.from_pretrained(model_name)\n",
    "\n",
    "def tokenize_function(batch: Dict[str, str]):\n",
    "    return tokenizer(batch[\"text\"], padding='max_length', truncation=True)\n",
    "\n",
    "tokenized_dataset = dataset.map(tokenize_function, batched=True)\n",
    "tokenized_dataset\n"
   ]
  },
  {
   "cell_type": "markdown",
   "metadata": {},
   "source": [
    "## Entrenamiento\n",
    "Se definen los argumentos y se lanza el proceso de fine-tuning del modelo de lenguaje."
   ]
  },
  {
   "cell_type": "code",
   "execution_count": null,
   "metadata": {},
   "outputs": [],
   "source": [
    "model = AutoModelForSequenceClassification.from_pretrained(model_name, num_labels=2)\n",
    "training_args = TrainingArguments(\n",
    "    output_dir=\"models/spanish-bert-finetuned\",\n",
    "    evaluation_strategy=\"epoch\",\n",
    "    learning_rate=2e-5,\n",
    "    per_device_train_batch_size=16,\n",
    "    per_device_eval_batch_size=16,\n",
    "    num_train_epochs=3,\n",
    "    weight_decay=0.01,\n",
    ")\n",
    "\n",
    "trainer = Trainer(\n",
    "    model=model,\n",
    "    args=training_args,\n",
    "    train_dataset=tokenized_dataset,\n",
    "    eval_dataset=tokenized_dataset,\n",
    ")\n",
    "\n",
    "trainer.train()\n"
   ]
  },
  {
   "cell_type": "markdown",
   "metadata": {},
   "source": [
    "## Evaluación y guardado\n",
    "Calculamos métricas y guardamos los artefactos del modelo para su posterior reutilización."
   ]
  },
  {
   "cell_type": "code",
   "execution_count": null,
   "metadata": {},
   "outputs": [],
   "source": [
    "metrics = trainer.evaluate()\n",
    "metrics\n",
    "\n",
    "Path(\"models/spanish-bert-finetuned\").mkdir(parents=True, exist_ok=True)\n",
    "trainer.save_model()\n",
    "tokenizer.save_pretrained(\"models/spanish-bert-finetuned\")\n"
   ]
  }
 ],
 "metadata": {
  "kernelspec": {
   "display_name": "Python 3",
   "language": "python",
   "name": "python3"
  },
  "language_info": {
   "name": "python",
   "version": "3.10"
  }
 },
 "nbformat": 4,
 "nbformat_minor": 5
}